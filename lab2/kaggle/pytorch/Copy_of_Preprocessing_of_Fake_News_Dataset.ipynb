{
  "nbformat": 4,
  "nbformat_minor": 0,
  "metadata": {
    "colab": {
      "name": "Copy of Preprocessing of Fake News Dataset.ipynb",
      "provenance": [],
      "collapsed_sections": [],
      "toc_visible": true
    },
    "kernelspec": {
      "name": "python3",
      "display_name": "Python 3"
    }
  },
  "cells": [
    {
      "cell_type": "markdown",
      "metadata": {
        "id": "er4O-aYwTkE1"
      },
      "source": [
        "# Parameters"
      ]
    },
    {
      "cell_type": "code",
      "metadata": {
        "id": "7YzomT7sTPPh"
      },
      "source": [
        "raw_data_path = '/content/drive/My Drive/lstm/Data/news.csv'\n",
        "destination_folder = '/content/drive/My Drive/lstm/Data'\n",
        "\n",
        "train_test_ratio = 0.10\n",
        "train_valid_ratio = 0.80\n",
        "\n",
        "first_n_words = 200"
      ],
      "execution_count": null,
      "outputs": []
    },
    {
      "cell_type": "markdown",
      "metadata": {
        "id": "SSbCqzcDWn-4"
      },
      "source": [
        "# Libraries"
      ]
    },
    {
      "cell_type": "code",
      "metadata": {
        "id": "O-muOECSWrOt"
      },
      "source": [
        "import pandas as pd\n",
        "from sklearn.model_selection import train_test_split"
      ],
      "execution_count": null,
      "outputs": []
    },
    {
      "cell_type": "markdown",
      "metadata": {
        "id": "bNfpHFEPUcyE"
      },
      "source": [
        "# Preprocessing"
      ]
    },
    {
      "cell_type": "code",
      "metadata": {
        "id": "oOxjGn9aki-c"
      },
      "source": [
        "def trim_string(x):\n",
        "\n",
        "    x = x.split(maxsplit=first_n_words)\n",
        "    x = ' '.join(x[:first_n_words])\n",
        "\n",
        "    return x"
      ],
      "execution_count": null,
      "outputs": []
    },
    {
      "cell_type": "code",
      "metadata": {
        "id": "Tl4_dITCUk83"
      },
      "source": [
        "# Read raw data\n",
        "df_raw = pd.read_csv(raw_data_path)\n",
        "\n",
        "# Prepare columns\n",
        "df_raw['label'] = (df_raw['label'] == 'FAKE').astype('int')\n",
        "df_raw['titletext'] = df_raw['title'] + \". \" + df_raw['text']\n",
        "df_raw = df_raw.reindex(columns=['label', 'title', 'text', 'titletext'])\n",
        "\n",
        "# Drop rows with empty text\n",
        "df_raw.drop( df_raw[df_raw.text.str.len() < 5].index, inplace=True)\n",
        "\n",
        "# Trim text and titletext to first_n_words\n",
        "df_raw['text'] = df_raw['text'].apply(trim_string)\n",
        "df_raw['titletext'] = df_raw['titletext'].apply(trim_string) \n",
        "\n",
        "# Split according to label\n",
        "df_real = df_raw[df_raw['label'] == 0]\n",
        "df_fake = df_raw[df_raw['label'] == 1]\n",
        "\n",
        "# Train-test split\n",
        "df_real_full_train, df_real_test = train_test_split(df_real, train_size = train_test_ratio, random_state = 1)\n",
        "df_fake_full_train, df_fake_test = train_test_split(df_fake, train_size = train_test_ratio, random_state = 1)\n",
        "\n",
        "# Train-valid split\n",
        "df_real_train, df_real_valid = train_test_split(df_real_full_train, train_size = train_valid_ratio, random_state = 1)\n",
        "df_fake_train, df_fake_valid = train_test_split(df_fake_full_train, train_size = train_valid_ratio, random_state = 1)\n",
        "\n",
        "# Concatenate splits of different labels\n",
        "df_train = pd.concat([df_real_train, df_fake_train], ignore_index=True, sort=False)\n",
        "df_valid = pd.concat([df_real_valid, df_fake_valid], ignore_index=True, sort=False)\n",
        "df_test = pd.concat([df_real_test, df_fake_test], ignore_index=True, sort=False)\n",
        "\n",
        "# Write preprocessed data\n",
        "df_train.to_csv(destination_folder + '/train.csv', index=False)\n",
        "df_valid.to_csv(destination_folder + '/valid.csv', index=False)\n",
        "df_test.to_csv(destination_folder + '/test.csv', index=False)"
      ],
      "execution_count": null,
      "outputs": []
    },
    {
      "cell_type": "code",
      "metadata": {
        "id": "2_HRD0JMjb9a"
      },
      "source": [
        ""
      ],
      "execution_count": null,
      "outputs": []
    }
  ]
}