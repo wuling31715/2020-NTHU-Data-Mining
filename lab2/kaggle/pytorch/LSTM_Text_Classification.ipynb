{
  "nbformat": 4,
  "nbformat_minor": 0,
  "metadata": {
    "colab": {
      "name": "LSTM Text Classification.ipynb",
      "provenance": [],
      "collapsed_sections": [],
      "toc_visible": true
    },
    "kernelspec": {
      "name": "python3",
      "display_name": "Python 3"
    },
    "accelerator": "GPU"
  },
  "cells": [
    {
      "cell_type": "markdown",
      "metadata": {
        "id": "m0iA62ypNeSH"
      },
      "source": [
        "# Parameters"
      ]
    },
    {
      "cell_type": "code",
      "metadata": {
        "id": "q5I4SZfwOVS0"
      },
      "source": [
        "source_folder = '/content/drive/My Drive/lstm/Data'\n",
        "destination_folder = '/content/drive/My Drive/lstm/Model'"
      ],
      "execution_count": null,
      "outputs": []
    },
    {
      "cell_type": "markdown",
      "metadata": {
        "id": "mqB-iSUGNnkJ"
      },
      "source": [
        "# Libraries"
      ]
    },
    {
      "cell_type": "code",
      "metadata": {
        "id": "tgWpYREtQns9"
      },
      "source": [
        "# Libraries\n",
        "\n",
        "import matplotlib.pyplot as plt\n",
        "import pandas as pd\n",
        "import torch\n",
        "\n",
        "# Preliminaries\n",
        "\n",
        "from torchtext.data import Field, TabularDataset, BucketIterator\n",
        "\n",
        "# Models\n",
        "\n",
        "import torch.nn as nn\n",
        "from torch.nn.utils.rnn import pack_padded_sequence, pad_packed_sequence\n",
        "\n",
        "# Training\n",
        "\n",
        "import torch.optim as optim\n",
        "\n",
        "# Evaluation\n",
        "\n",
        "from sklearn.metrics import accuracy_score, classification_report, confusion_matrix\n",
        "import seaborn as sns"
      ],
      "execution_count": null,
      "outputs": []
    },
    {
      "cell_type": "code",
      "metadata": {
        "id": "MthpYZhpkyx6",
        "colab": {
          "base_uri": "https://localhost:8080/",
          "height": 34
        },
        "outputId": "3cf8586e-0977-4069-d0aa-9746ba703cdc"
      },
      "source": [
        "device = torch.device('cuda:0' if torch.cuda.is_available() else 'cpu')\n",
        "print(device)"
      ],
      "execution_count": null,
      "outputs": [
        {
          "output_type": "stream",
          "text": [
            "cuda:0\n"
          ],
          "name": "stdout"
        }
      ]
    },
    {
      "cell_type": "markdown",
      "metadata": {
        "id": "u6dyP4Y7Nq0b"
      },
      "source": [
        "# Preliminaries"
      ]
    },
    {
      "cell_type": "code",
      "metadata": {
        "id": "N1T5QcSENZ0z"
      },
      "source": [
        "# Fields\n",
        "\n",
        "label_field = Field(sequential=False, use_vocab=False, batch_first=True, dtype=torch.float)\n",
        "text_field = Field(tokenize='spacy', lower=True, include_lengths=True, batch_first=True)\n",
        "fields = [('label', label_field), ('title', text_field), ('text', text_field), ('titletext', text_field)]\n",
        "\n",
        "# TabularDataset\n",
        "\n",
        "train, valid, test = TabularDataset.splits(path=source_folder, train='train.csv', validation='valid.csv', test='test.csv',\n",
        "                                           format='CSV', fields=fields, skip_header=True)\n",
        "\n",
        "# Iterators\n",
        "\n",
        "train_iter = BucketIterator(train, batch_size=32, sort_key=lambda x: len(x.text),\n",
        "                            device=device, sort=True, sort_within_batch=True)\n",
        "valid_iter = BucketIterator(valid, batch_size=32, sort_key=lambda x: len(x.text),\n",
        "                            device=device, sort=True, sort_within_batch=True)\n",
        "test_iter = BucketIterator(test, batch_size=32, sort_key=lambda x: len(x.text),\n",
        "                            device=device, sort=True, sort_within_batch=True)\n",
        "\n",
        "# Vocabulary\n",
        "\n",
        "text_field.build_vocab(train, min_freq=3)"
      ],
      "execution_count": null,
      "outputs": []
    },
    {
      "cell_type": "markdown",
      "metadata": {
        "id": "Gocz9HMqNvtb"
      },
      "source": [
        "# Models"
      ]
    },
    {
      "cell_type": "code",
      "metadata": {
        "id": "soc-PApFBmyC"
      },
      "source": [
        "class LSTM(nn.Module):\n",
        "\n",
        "    def __init__(self, dimension=128):\n",
        "        super(LSTM, self).__init__()\n",
        "\n",
        "        self.embedding = nn.Embedding(len(text_field.vocab), 300)\n",
        "        self.dimension = dimension\n",
        "        self.lstm = nn.LSTM(input_size=300,\n",
        "                            hidden_size=dimension,\n",
        "                            num_layers=1,\n",
        "                            batch_first=True,\n",
        "                            bidirectional=True)\n",
        "        self.drop = nn.Dropout(p=0.5)\n",
        "\n",
        "        self.fc = nn.Linear(2*dimension, 1)\n",
        "\n",
        "    def forward(self, text, text_len):\n",
        "\n",
        "        text_emb = self.embedding(text)\n",
        "\n",
        "        packed_input = pack_padded_sequence(text_emb, text_len, batch_first=True, enforce_sorted=False)\n",
        "        packed_output, _ = self.lstm(packed_input)\n",
        "        output, _ = pad_packed_sequence(packed_output, batch_first=True)\n",
        "\n",
        "        out_forward = output[range(len(output)), text_len - 1, :self.dimension]\n",
        "        out_reverse = output[:, 0, self.dimension:]\n",
        "        out_reduced = torch.cat((out_forward, out_reverse), 1)\n",
        "        text_fea = self.drop(out_reduced)\n",
        "\n",
        "        text_fea = self.fc(text_fea)\n",
        "        text_fea = torch.squeeze(text_fea, 1)\n",
        "        text_out = torch.sigmoid(text_fea)\n",
        "\n",
        "        return text_out"
      ],
      "execution_count": null,
      "outputs": []
    },
    {
      "cell_type": "markdown",
      "metadata": {
        "id": "FDKE1z3KOAaV"
      },
      "source": [
        "# Training"
      ]
    },
    {
      "cell_type": "code",
      "metadata": {
        "id": "2AUL7N-OPjYc"
      },
      "source": [
        "# Save and Load Functions\n",
        "\n",
        "def save_checkpoint(save_path, model, optimizer, valid_loss):\n",
        "\n",
        "    if save_path == None:\n",
        "        return\n",
        "    \n",
        "    state_dict = {'model_state_dict': model.state_dict(),\n",
        "                  'optimizer_state_dict': optimizer.state_dict(),\n",
        "                  'valid_loss': valid_loss}\n",
        "    \n",
        "    torch.save(state_dict, save_path)\n",
        "    print(f'Model saved to ==> {save_path}')\n",
        "\n",
        "\n",
        "def load_checkpoint(load_path, model, optimizer):\n",
        "\n",
        "    if load_path==None:\n",
        "        return\n",
        "    \n",
        "    state_dict = torch.load(load_path, map_location=device)\n",
        "    print(f'Model loaded from <== {load_path}')\n",
        "    \n",
        "    model.load_state_dict(state_dict['model_state_dict'])\n",
        "    optimizer.load_state_dict(state_dict['optimizer_state_dict'])\n",
        "    \n",
        "    return state_dict['valid_loss']\n",
        "\n",
        "\n",
        "def save_metrics(save_path, train_loss_list, valid_loss_list, global_steps_list):\n",
        "\n",
        "    if save_path == None:\n",
        "        return\n",
        "    \n",
        "    state_dict = {'train_loss_list': train_loss_list,\n",
        "                  'valid_loss_list': valid_loss_list,\n",
        "                  'global_steps_list': global_steps_list}\n",
        "    \n",
        "    torch.save(state_dict, save_path)\n",
        "    print(f'Model saved to ==> {save_path}')\n",
        "\n",
        "\n",
        "def load_metrics(load_path):\n",
        "\n",
        "    if load_path==None:\n",
        "        return\n",
        "    \n",
        "    state_dict = torch.load(load_path, map_location=device)\n",
        "    print(f'Model loaded from <== {load_path}')\n",
        "    \n",
        "    return state_dict['train_loss_list'], state_dict['valid_loss_list'], state_dict['global_steps_list']"
      ],
      "execution_count": null,
      "outputs": []
    },
    {
      "cell_type": "code",
      "metadata": {
        "id": "PXOax53pUlC0"
      },
      "source": [
        "# Training Function\n",
        "\n",
        "def train(model,\n",
        "          optimizer,\n",
        "          criterion = nn.BCELoss(),\n",
        "          train_loader = train_iter,\n",
        "          valid_loader = valid_iter,\n",
        "          num_epochs = 5,\n",
        "          eval_every = len(train_iter) // 2,\n",
        "          file_path = destination_folder,\n",
        "          best_valid_loss = float(\"Inf\")):\n",
        "    \n",
        "    # initialize running values\n",
        "    running_loss = 0.0\n",
        "    valid_running_loss = 0.0\n",
        "    global_step = 0\n",
        "    train_loss_list = []\n",
        "    valid_loss_list = []\n",
        "    global_steps_list = []\n",
        "\n",
        "    # training loop\n",
        "    model.train()\n",
        "    for epoch in range(num_epochs):\n",
        "        for (labels, (title, title_len), (text, text_len), (titletext, titletext_len)), _ in train_loader:           \n",
        "            labels = labels.to(device)\n",
        "            titletext = titletext.to(device)\n",
        "            titletext_len = titletext_len.to(device)\n",
        "            output = model(titletext, titletext_len)\n",
        "\n",
        "            loss = criterion(output, labels)\n",
        "            optimizer.zero_grad()\n",
        "            loss.backward()\n",
        "            optimizer.step()\n",
        "\n",
        "            # update running values\n",
        "            running_loss += loss.item()\n",
        "            global_step += 1\n",
        "\n",
        "            # evaluation step\n",
        "            if global_step % eval_every == 0:\n",
        "                model.eval()\n",
        "                with torch.no_grad():                    \n",
        "                  # validation loop\n",
        "                  for (labels, (title, title_len), (text, text_len), (titletext, titletext_len)), _ in valid_loader:\n",
        "                      labels = labels.to(device)\n",
        "                      titletext = titletext.to(device)\n",
        "                      titletext_len = titletext_len.to(device)\n",
        "                      output = model(titletext, titletext_len)\n",
        "\n",
        "                      loss = criterion(output, labels)\n",
        "                      valid_running_loss += loss.item()\n",
        "\n",
        "                # evaluation\n",
        "                average_train_loss = running_loss / eval_every\n",
        "                average_valid_loss = valid_running_loss / len(valid_loader)\n",
        "                train_loss_list.append(average_train_loss)\n",
        "                valid_loss_list.append(average_valid_loss)\n",
        "                global_steps_list.append(global_step)\n",
        "\n",
        "                # resetting running values\n",
        "                running_loss = 0.0                \n",
        "                valid_running_loss = 0.0\n",
        "                model.train()\n",
        "\n",
        "                # print progress\n",
        "                print('Epoch [{}/{}], Step [{}/{}], Train Loss: {:.4f}, Valid Loss: {:.4f}'\n",
        "                      .format(epoch+1, num_epochs, global_step, num_epochs*len(train_loader),\n",
        "                              average_train_loss, average_valid_loss))\n",
        "                \n",
        "                # checkpoint\n",
        "                if best_valid_loss > average_valid_loss:\n",
        "                    best_valid_loss = average_valid_loss\n",
        "                    save_checkpoint(file_path + '/model.pt', model, optimizer, best_valid_loss)\n",
        "                    save_metrics(file_path + '/metrics.pt', train_loss_list, valid_loss_list, global_steps_list)\n",
        "    \n",
        "    save_metrics(file_path + '/metrics.pt', train_loss_list, valid_loss_list, global_steps_list)\n",
        "    print('Finished Training!')"
      ],
      "execution_count": null,
      "outputs": []
    },
    {
      "cell_type": "code",
      "metadata": {
        "id": "az5c6DaO9NFc",
        "colab": {
          "base_uri": "https://localhost:8080/",
          "height": 731
        },
        "outputId": "412e0e8a-e662-4554-d201-df9b167a6f9d"
      },
      "source": [
        "model = LSTM().to(device)\n",
        "optimizer = optim.Adam(model.parameters(), lr=0.001)\n",
        "\n",
        "train(model=model, optimizer=optimizer, num_epochs=10)"
      ],
      "execution_count": null,
      "outputs": [
        {
          "output_type": "stream",
          "text": [
            "Epoch [1/10], Step [8/160], Train Loss: 0.6933, Valid Loss: 0.6729\n",
            "Model saved to ==> /content/drive/My Drive/lstm/Model/model.pt\n",
            "Model saved to ==> /content/drive/My Drive/lstm/Model/metrics.pt\n",
            "Epoch [1/10], Step [16/160], Train Loss: 0.6914, Valid Loss: 0.6588\n",
            "Model saved to ==> /content/drive/My Drive/lstm/Model/model.pt\n",
            "Model saved to ==> /content/drive/My Drive/lstm/Model/metrics.pt\n",
            "Epoch [2/10], Step [24/160], Train Loss: 0.5762, Valid Loss: 0.6457\n",
            "Model saved to ==> /content/drive/My Drive/lstm/Model/model.pt\n",
            "Model saved to ==> /content/drive/My Drive/lstm/Model/metrics.pt\n",
            "Epoch [2/10], Step [32/160], Train Loss: 0.5932, Valid Loss: 0.6317\n",
            "Model saved to ==> /content/drive/My Drive/lstm/Model/model.pt\n",
            "Model saved to ==> /content/drive/My Drive/lstm/Model/metrics.pt\n",
            "Epoch [3/10], Step [40/160], Train Loss: 0.4865, Valid Loss: 0.6199\n",
            "Model saved to ==> /content/drive/My Drive/lstm/Model/model.pt\n",
            "Model saved to ==> /content/drive/My Drive/lstm/Model/metrics.pt\n",
            "Epoch [3/10], Step [48/160], Train Loss: 0.4741, Valid Loss: 0.6085\n",
            "Model saved to ==> /content/drive/My Drive/lstm/Model/model.pt\n",
            "Model saved to ==> /content/drive/My Drive/lstm/Model/metrics.pt\n",
            "Epoch [4/10], Step [56/160], Train Loss: 0.3592, Valid Loss: 0.5966\n",
            "Model saved to ==> /content/drive/My Drive/lstm/Model/model.pt\n",
            "Model saved to ==> /content/drive/My Drive/lstm/Model/metrics.pt\n",
            "Epoch [4/10], Step [64/160], Train Loss: 0.3295, Valid Loss: 0.5513\n",
            "Model saved to ==> /content/drive/My Drive/lstm/Model/model.pt\n",
            "Model saved to ==> /content/drive/My Drive/lstm/Model/metrics.pt\n",
            "Epoch [5/10], Step [72/160], Train Loss: 0.2058, Valid Loss: 0.4844\n",
            "Model saved to ==> /content/drive/My Drive/lstm/Model/model.pt\n",
            "Model saved to ==> /content/drive/My Drive/lstm/Model/metrics.pt\n",
            "Epoch [5/10], Step [80/160], Train Loss: 0.1669, Valid Loss: 0.5313\n",
            "Epoch [6/10], Step [88/160], Train Loss: 0.1015, Valid Loss: 0.4999\n",
            "Epoch [6/10], Step [96/160], Train Loss: 0.0744, Valid Loss: 0.4997\n",
            "Epoch [7/10], Step [104/160], Train Loss: 0.0420, Valid Loss: 0.6247\n",
            "Epoch [7/10], Step [112/160], Train Loss: 0.0488, Valid Loss: 0.4529\n",
            "Model saved to ==> /content/drive/My Drive/lstm/Model/model.pt\n",
            "Model saved to ==> /content/drive/My Drive/lstm/Model/metrics.pt\n",
            "Epoch [8/10], Step [120/160], Train Loss: 0.0272, Valid Loss: 1.0449\n",
            "Epoch [8/10], Step [128/160], Train Loss: 0.0533, Valid Loss: 0.4725\n",
            "Epoch [9/10], Step [136/160], Train Loss: 0.0546, Valid Loss: 0.6471\n",
            "Epoch [9/10], Step [144/160], Train Loss: 0.0397, Valid Loss: 0.5033\n",
            "Epoch [10/10], Step [152/160], Train Loss: 0.0308, Valid Loss: 0.5138\n",
            "Epoch [10/10], Step [160/160], Train Loss: 0.0223, Valid Loss: 0.5254\n",
            "Model saved to ==> /content/drive/My Drive/lstm/Model/metrics.pt\n",
            "Finished Training!\n"
          ],
          "name": "stdout"
        }
      ]
    },
    {
      "cell_type": "code",
      "metadata": {
        "id": "_t70W-1Litwu",
        "colab": {
          "base_uri": "https://localhost:8080/",
          "height": 296
        },
        "outputId": "4f7617a2-708a-4a84-d5ee-500a9c205104"
      },
      "source": [
        "train_loss_list, valid_loss_list, global_steps_list = load_metrics(destination_folder + '/metrics.pt')\n",
        "plt.plot(global_steps_list, train_loss_list, label='Train')\n",
        "plt.plot(global_steps_list, valid_loss_list, label='Valid')\n",
        "plt.xlabel('Global Steps')\n",
        "plt.ylabel('Loss')\n",
        "plt.legend()\n",
        "plt.show() "
      ],
      "execution_count": null,
      "outputs": [
        {
          "output_type": "stream",
          "text": [
            "Model loaded from <== /content/drive/My Drive/lstm/Model/metrics.pt\n"
          ],
          "name": "stdout"
        },
        {
          "output_type": "display_data",
          "data": {
            "image/png": "[encoded data removed]",
            "text/plain": [
              "<Figure size 432x288 with 1 Axes>"
            ]
          },
          "metadata": {
            "tags": [],
            "needs_background": "light"
          }
        }
      ]
    },
    {
      "cell_type": "markdown",
      "metadata": {
        "id": "pWHQaJ4JORzI"
      },
      "source": [
        "# Evaluation"
      ]
    },
    {
      "cell_type": "code",
      "metadata": {
        "id": "V2LU9xKbi2bU"
      },
      "source": [
        "# Evaluation Function\n",
        "\n",
        "def evaluate(model, test_loader, version='title', threshold=0.5):\n",
        "    y_pred = []\n",
        "    y_true = []\n",
        "\n",
        "    model.eval()\n",
        "    with torch.no_grad():\n",
        "        for (labels, (title, title_len), (text, text_len), (titletext, titletext_len)), _ in test_loader:           \n",
        "            labels = labels.to(device)\n",
        "            titletext = titletext.to(device)\n",
        "            titletext_len = titletext_len.to(device)\n",
        "            output = model(titletext, titletext_len)\n",
        "\n",
        "            output = (output > threshold).int()\n",
        "            y_pred.extend(output.tolist())\n",
        "            y_true.extend(labels.tolist())\n",
        "    \n",
        "    print('Classification Report:')\n",
        "    print(classification_report(y_true, y_pred, labels=[1,0], digits=4))\n",
        "    \n",
        "    cm = confusion_matrix(y_true, y_pred, labels=[1,0])\n",
        "    ax= plt.subplot()\n",
        "    sns.heatmap(cm, annot=True, ax = ax, cmap='Blues', fmt=\"d\")\n",
        "\n",
        "    ax.set_title('Confusion Matrix')\n",
        "\n",
        "    ax.set_xlabel('Predicted Labels')\n",
        "    ax.set_ylabel('True Labels')\n",
        "\n",
        "    ax.xaxis.set_ticklabels(['FAKE', 'REAL'])\n",
        "    ax.yaxis.set_ticklabels(['FAKE', 'REAL'])"
      ],
      "execution_count": null,
      "outputs": []
    },
    {
      "cell_type": "code",
      "metadata": {
        "id": "CYI5TflH4-jG",
        "colab": {
          "base_uri": "https://localhost:8080/",
          "height": 482
        },
        "outputId": "b9a9c8bc-6767-44e6-ba77-87155e8c8373"
      },
      "source": [
        "best_model = LSTM().to(device)\n",
        "optimizer = optim.Adam(best_model.parameters(), lr=0.001)\n",
        "\n",
        "load_checkpoint(destination_folder + '/model.pt', best_model, optimizer)\n",
        "evaluate(best_model, test_iter)"
      ],
      "execution_count": null,
      "outputs": [
        {
          "output_type": "stream",
          "text": [
            "Model loaded from <== /content/drive/My Drive/lstm/Model/model.pt\n",
            "Classification Report:\n",
            "              precision    recall  f1-score   support\n",
            "\n",
            "           1     0.7876    0.7504    0.7685      2816\n",
            "           0     0.7646    0.8003    0.7821      2854\n",
            "\n",
            "    accuracy                         0.7755      5670\n",
            "   macro avg     0.7761    0.7753    0.7753      5670\n",
            "weighted avg     0.7760    0.7755    0.7753      5670\n",
            "\n"
          ],
          "name": "stdout"
        },
        {
          "output_type": "display_data",
          "data": {
            "image/png": "[encoded data removed]",
            "text/plain": [
              "<Figure size 432x288 with 2 Axes>"
            ]
          },
          "metadata": {
            "tags": [],
            "needs_background": "light"
          }
        }
      ]
    },
    {
      "cell_type": "code",
      "metadata": {
        "id": "08JubEacEMKE"
      },
      "source": [
        ""
      ],
      "execution_count": null,
      "outputs": []
    }
  ]
}