{
 "cells": [
  {
   "cell_type": "code",
   "execution_count": 1,
   "metadata": {},
   "outputs": [],
   "source": [
    "import tensorflow as tf\n",
    "# 預設情況下，tensorflow會為了避免碎片化的記憶體造成效能不佳的情況而一次性的佔用顯卡所有記憶體，\n",
    "# 這部份可以透過tf.config來限制硬體資源以及指定顯卡記憶體的使用。\n",
    "def select_gpu(N):\n",
    "    gpus = tf.config.experimental.list_physical_devices('GPU')\n",
    "    print(gpus)\n",
    "    if gpus:\n",
    "        try:\n",
    "            for gpu in gpus:\n",
    "                # If memory growth is enabled for a PhysicalDevice, \n",
    "                # the runtime initialization will not allocate all memory on the device. \n",
    "                # Memory growth cannot be configured on a PhysicalDevice with virtual devices configured.\n",
    "                tf.config.experimental.set_memory_growth(gpu, True)\n",
    "            # 指定使用哪顆GPU\n",
    "            tf.config.experimental.set_visible_devices(gpus[N], 'GPU')\n",
    "            logical_gpus = tf.config.experimental.list_logical_devices('GPU')\n",
    "            print(len(gpus), \"Physical GPUs,\", len(logical_gpus), \"Logical GPUs\")\n",
    "        except RuntimeError as e:\n",
    "            print(e)"
   ]
  },
  {
   "cell_type": "code",
   "execution_count": 2,
   "metadata": {},
   "outputs": [
    {
     "name": "stdout",
     "output_type": "stream",
     "text": [
      "[PhysicalDevice(name='/physical_device:GPU:0', device_type='GPU'), PhysicalDevice(name='/physical_device:GPU:1', device_type='GPU'), PhysicalDevice(name='/physical_device:GPU:2', device_type='GPU')]\n",
      "3 Physical GPUs, 1 Logical GPUs\n"
     ]
    }
   ],
   "source": [
    "select_gpu(2)\n",
    "epochs = 1\n",
    "model_name = 'bert-base'\n",
    "sequence_length = 48"
   ]
  },
  {
   "cell_type": "code",
   "execution_count": 3,
   "metadata": {},
   "outputs": [],
   "source": [
    "import pandas as pd\n",
    "import numpy as np\n",
    "import json"
   ]
  },
  {
   "cell_type": "code",
   "execution_count": 4,
   "metadata": {},
   "outputs": [],
   "source": [
    "data_path = '/home/Danny/Data-Mining/lab2/kaggle/data/'"
   ]
  },
  {
   "cell_type": "code",
   "execution_count": null,
   "metadata": {},
   "outputs": [],
   "source": [
    "json_list = list()\n",
    "with open(data_path + 'tweets_DM.json' , 'r') as file:\n",
    "    for line in file:\n",
    "        json_list.append(json.loads(line))"
   ]
  },
  {
   "cell_type": "code",
   "execution_count": null,
   "metadata": {},
   "outputs": [],
   "source": [
    "tweet_list = list()\n",
    "for json in json_list:\n",
    "    tweet_id = json['_source']['tweet']['tweet_id']\n",
    "    hashtags = json['_source']['tweet']['hashtags']\n",
    "    hashtag = ' '.join(hashtags)\n",
    "    text = json['_source']['tweet']['text']\n",
    "#     text = text + ' ' + hashtag\n",
    "    tweet_list.append([tweet_id, text])"
   ]
  },
  {
   "cell_type": "code",
   "execution_count": null,
   "metadata": {},
   "outputs": [],
   "source": [
    "emotion_df = pd.read_csv(data_path + 'emotion.csv')\n",
    "emotion_df"
   ]
  },
  {
   "cell_type": "code",
   "execution_count": null,
   "metadata": {},
   "outputs": [],
   "source": [
    "identification_df = pd.read_csv(data_path + 'data_identification.csv')\n",
    "identification_df"
   ]
  },
  {
   "cell_type": "code",
   "execution_count": null,
   "metadata": {},
   "outputs": [],
   "source": [
    "emoji_dict = {\n",
    "    \"😂\": \"lolface\",\n",
    "    \"😇\": \"smile\",\n",
    "    \"😀\": \"smile\",\n",
    "    \"🎉\": \"party\",\n",
    "    \"😳\": \"embarrassed\",\n",
    "    \"😔\": \"sadface\",\n",
    "    \"👀\": \"shifty\",\n",
    "    \"🤷\": \"shrugging\",\n",
    "    \"💔\": \"brokenhearted\",\n",
    "    \"👻\": \"ghost\",\n",
    "    \"😍\": \"heart\",\n",
    "    \"🙄\": \"disdain\",\n",
    "    \"💖\": \"heart\",\n",
    "    \"✌\": \"victory\",\n",
    "    \"🎶\": \"music\",\n",
    "    \"😱\": \"shock\",\n",
    "    \"😃\": \"smile\",\n",
    "    \"😒\": \"unsatisfied\",\n",
    "    \"👊\": \"brofist\",\n",
    "    \"😄\": \"smile\",\n",
    "    \"🌞\": \"smile\",\n",
    "    \"🙌\": \"celebration\",\n",
    "    \"😁\": \"smile\",\n",
    "    \"🤗\": \"hugging\",\n",
    "    \"🤣\": \"rofl\",\n",
    "    \"🌈\": \"gaypride\",\n",
    "    \"😉\": \"winking\",\n",
    "    \"💞\": \"heart\",\n",
    "    \"🙃\": \"irony\",\n",
    "    \"😜\": \"winking\",\n",
    "    \"😭\": \"bawling\",\n",
    "    \"🤔\": \"thinker\",\n",
    "    \"😎\": \"cool\",\n",
    "    \"💛\": \"heart\",\n",
    "    \"💚\": \"heart\",\n",
    "    \"💃\": \"fun\",\n",
    "    \"💗\": \"heart\",\n",
    "    \"😬\": \"awkward\",\n",
    "    \"😌\": \"relieved\",\n",
    "    \"😅\": \"whew\",\n",
    "    \"💋\": \"kiss\",\n",
    "    \"🙈\": \"laugh\",\n",
    "    \"😊\": \"^^\",\n",
    "    \"👌\": \"okay\",\n",
    "    \"😡\": \"angry\",\n",
    "    \"😘\": \"kiss\",\n",
    "    \"😩\": \"weary\",\n",
    "    \"🔥\": \"excellent\",\n",
    "    \"💙\": \"heart\",\n",
    "    \"💕\": \"heart\",\n",
    "    \"👏\": \"clapping\",\n",
    "    \"👍\": \"thumbsup\",\n",
    "    \"💯\": \"perfect\",\n",
    "    \"💜\": \"heart\",\n",
    "    \"🕘\" : \"late\",\n",
    "    \"😡\" : \"angry\",\n",
    "    \"😒\" : \"dissatisfied\",\n",
    "    \"😤\" : \"angry\",\n",
    "    \"😠\" : \"angry\",\n",
    "    \"😑\" : \"annoy\",\n",
    "    \"😰\": \"anxious\",\n",
    "    \"😯\": \"surprise\",\n",
    "    \"😨\": \"scared\",\n",
    "    \"😲\": \"astonished\",\n",
    "    \"💪\": \"strong\",\n",
    "    \"🤦\": \"facepalm\",\n",
    "    \"✨\": \"sparkle\",\n",
    "    \"😢\": \"crying\",\n",
    "    \"💓\": \"heart\",\n",
    "    \"👑\": \"crown\",\n",
    "    \"🤘\": \"rockon\",\n",
    "    \"🌹\": \"rose\",\n",
    "    \"😋\": \"delicious\",\n",
    "    \"😏\": \"flirting\",\n",
    "    \"😆\": \"XD\",\n",
    "    \"😫\": \"exhausted\",\n",
    "    \"😦\": \"frowning\",\n",
    "    \"🙏\": \"please\",\n",
    "}"
   ]
  },
  {
   "cell_type": "code",
   "execution_count": null,
   "metadata": {},
   "outputs": [],
   "source": [
    "frequent_name_dict = {\n",
    "    \"#realdonaldtrump\": \"sadness\",\n",
    "    \"#fifthharmony\": \"sadness\",\n",
    "    \"#mostrequestlive\": \"sadness\",\n",
    "    \"#onairromeo\": \"sadness\",\n",
    "    \"#matthardybrand\": \"sadness\",\n",
    "}"
   ]
  },
  {
   "cell_type": "code",
   "execution_count": null,
   "metadata": {},
   "outputs": [],
   "source": [
    "text_df = pd.DataFrame(tweet_list, columns=['tweet_id', 'text'])\n",
    "text_df"
   ]
  },
  {
   "cell_type": "code",
   "execution_count": null,
   "metadata": {},
   "outputs": [],
   "source": [
    "import re\n",
    "def replace_word(text):\n",
    "    text_list = text.split()\n",
    "    for i, j in enumerate(text_list):\n",
    "        if j in emoji_dict:\n",
    "            text_list[i] = emoji_dict[j]\n",
    "        if j in frequent_name_dict:\n",
    "            text_list[i] = frequent_name_dict[j]\n",
    "    text = ' '.join(text_list)\n",
    "    text = re.sub('<lh>|<|>|@|#|', '', text)\n",
    "    return text.split()"
   ]
  },
  {
   "cell_type": "code",
   "execution_count": null,
   "metadata": {},
   "outputs": [],
   "source": [
    "# text_df['token'] = text_df['text'].apply(lambda s : s.split())\n",
    "# text_df"
   ]
  },
  {
   "cell_type": "code",
   "execution_count": null,
   "metadata": {},
   "outputs": [],
   "source": [
    "# %%time\n",
    "# import nltk\n",
    "# from nltk.tokenize import TweetTokenizer\n",
    "# tweet_tokenizer = TweetTokenizer(strip_handles=True, reduce_len=True)\n",
    "# text_df['token'] = text_df['text'].apply(lambda s : s.lower())\n",
    "# text_df['token'] = text_df['token'].apply(lambda s : tweet_tokenizer.tokenize(s))\n",
    "# text_df['token'] = text_df['token'].apply(lambda s : ' '.join(s))\n",
    "# text_df['token'] = text_df['token'].apply(lambda s : replace_word(s))\n",
    "# text_df"
   ]
  },
  {
   "cell_type": "code",
   "execution_count": null,
   "metadata": {},
   "outputs": [],
   "source": [
    "%%time\n",
    "from kashgari.tokenizers import BertTokenizer\n",
    "vocab_path = '/home/Danny/pretrain_model/{}/vocab.txt'.format(model_name)\n",
    "tokenizer = BertTokenizer.load_from_vocab_file(vocab_path)\n",
    "text_df['token'] = text_df['text'].apply(lambda s : tokenizer.tokenize(s))\n",
    "text_df"
   ]
  },
  {
   "cell_type": "code",
   "execution_count": null,
   "metadata": {
    "scrolled": true
   },
   "outputs": [],
   "source": [
    "test_df = identification_df[identification_df['identification'] == 'test']\n",
    "# test_df"
   ]
  },
  {
   "cell_type": "code",
   "execution_count": null,
   "metadata": {},
   "outputs": [],
   "source": [
    "train_df = text_df.merge(emotion_df, left_on='tweet_id', right_on='tweet_id')\n",
    "# train_df"
   ]
  },
  {
   "cell_type": "code",
   "execution_count": null,
   "metadata": {},
   "outputs": [],
   "source": [
    "x_list = train_df['token'].to_list()\n",
    "y_list = train_df['emotion'].to_list()\n",
    "print(len(x_list))\n",
    "print(len(y_list))"
   ]
  },
  {
   "cell_type": "code",
   "execution_count": null,
   "metadata": {},
   "outputs": [],
   "source": [
    "from sklearn.model_selection import train_test_split\n",
    "\n",
    "train_x, test_x, train_y, test_y = train_test_split(x_list, y_list, test_size=0.2, random_state=42)\n",
    "train_x, valid_x, train_y, valid_y = train_test_split(train_x, train_y, test_size=0.2, random_state=42)\n",
    "print(len(train_x), len(train_y))\n",
    "print(len(test_x), len(test_y))\n",
    "print(len(valid_x), len(valid_y))"
   ]
  },
  {
   "cell_type": "code",
   "execution_count": null,
   "metadata": {
    "scrolled": false
   },
   "outputs": [],
   "source": [
    "%%time\n",
    "import kashgari\n",
    "from kashgari.tasks.classification import BiLSTM_Model\n",
    "kashgari.config.use_cudnn_cell = True\n",
    "import logging\n",
    "logging.basicConfig(level='DEBUG')\n",
    "from kashgari.embeddings import BertEmbedding\n",
    "bert_embed = BertEmbedding('/home/Danny/pretrain_model/{}'.format(model_name))\n",
    "model = BiLSTM_Model(bert_embed, \n",
    "                     sequence_length=sequence_length,\n",
    "#                      sequence_length: Union[str, int] = 'auto',\n",
    "                    )\n",
    "history = model.fit(train_x, \n",
    "                    train_y, \n",
    "                    valid_x, \n",
    "                    valid_y,\n",
    "                    epochs=epochs,\n",
    "                    batch_size=256,\n",
    "         )"
   ]
  },
  {
   "cell_type": "code",
   "execution_count": null,
   "metadata": {},
   "outputs": [],
   "source": [
    "model_path = 'model/{}_epoch_{}'.format(model_name, epochs)\n",
    "model.save(model_path)\n",
    "model.evaluate(test_x, test_y)"
   ]
  },
  {
   "cell_type": "code",
   "execution_count": null,
   "metadata": {},
   "outputs": [],
   "source": [
    "from matplotlib import pyplot as plt\n",
    "\n",
    "plt.plot(history.history['accuracy'])\n",
    "plt.plot(history.history['val_accuracy'])\n",
    "plt.plot(history.history['loss'])\n",
    "plt.plot(history.history['val_loss'])\n",
    "plt.title('model accuracy')\n",
    "plt.ylabel('accuracy')\n",
    "plt.xlabel('epoch')\n",
    "plt.legend(['accuracy', 'val_accuracy', 'loss', 'val_loss'])\n",
    "plt.show()"
   ]
  },
  {
   "cell_type": "code",
   "execution_count": null,
   "metadata": {},
   "outputs": [],
   "source": [
    "# model_path = 'model/{}_epoch_{}'.format(model_name, epochs)\n",
    "# model = kashgari.utils.load_model(model_path)\n",
    "# model.evaluate(test_x, test_y)"
   ]
  },
  {
   "cell_type": "code",
   "execution_count": null,
   "metadata": {},
   "outputs": [],
   "source": [
    "test_df = test_df.merge(text_df, left_on='tweet_id', right_on='tweet_id')\n",
    "# test_df"
   ]
  },
  {
   "cell_type": "code",
   "execution_count": null,
   "metadata": {},
   "outputs": [],
   "source": [
    "text_list = test_df['token'].tolist()\n",
    "# text_list"
   ]
  },
  {
   "cell_type": "code",
   "execution_count": null,
   "metadata": {},
   "outputs": [],
   "source": [
    "predict_list = model.predict(text_list)\n",
    "# predict_list"
   ]
  },
  {
   "cell_type": "code",
   "execution_count": null,
   "metadata": {},
   "outputs": [],
   "source": [
    "test_df['predict'] = predict_list\n",
    "# test_df"
   ]
  },
  {
   "cell_type": "code",
   "execution_count": null,
   "metadata": {},
   "outputs": [],
   "source": [
    "output_df = test_df[['tweet_id', 'predict']]\n",
    "output_df = output_df.rename(columns={'tweet_id':'id', 'predict':'emotion'})\n",
    "# output_df"
   ]
  },
  {
   "cell_type": "code",
   "execution_count": null,
   "metadata": {},
   "outputs": [],
   "source": [
    "output_path = 'output/{}_epoch_{}.csv'.format(model_name, epochs)\n",
    "output_df.to_csv(output_path, index=False, header=True)"
   ]
  },
  {
   "cell_type": "code",
   "execution_count": null,
   "metadata": {},
   "outputs": [],
   "source": []
  }
 ],
 "metadata": {
  "kernelspec": {
   "display_name": "Python 3",
   "language": "python",
   "name": "python3"
  },
  "language_info": {
   "codemirror_mode": {
    "name": "ipython",
    "version": 3
   },
   "file_extension": ".py",
   "mimetype": "text/x-python",
   "name": "python",
   "nbconvert_exporter": "python",
   "pygments_lexer": "ipython3",
   "version": "3.6.10"
  }
 },
 "nbformat": 4,
 "nbformat_minor": 4
}
